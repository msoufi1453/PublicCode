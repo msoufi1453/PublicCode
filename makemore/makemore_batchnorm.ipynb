{
 "cells": [
  {
   "cell_type": "code",
   "execution_count": 1,
   "id": "68e83260",
   "metadata": {},
   "outputs": [],
   "source": [
    "import torch\n",
    "import torch.nn.functional as F\n",
    "import random"
   ]
  },
  {
   "cell_type": "markdown",
   "id": "e04baccf",
   "metadata": {},
   "source": [
    "## setup MLP"
   ]
  },
  {
   "cell_type": "code",
   "execution_count": 2,
   "id": "a99e6bdb",
   "metadata": {},
   "outputs": [],
   "source": [
    "#setup globabl variables\n",
    "words = open('names.txt','r').read().splitlines()\n",
    "chars = sorted(list(set(''.join(words)))) #list of chars\n",
    "stoi = {s:i+1 for i,s in enumerate(chars)}#mapping of chars to integers\n",
    "stoi['.'] = 0\n",
    "itos = {i:s for s,i in stoi.items()} #map integers to chars\n",
    "vocab_size = len(stoi)"
   ]
  },
  {
   "cell_type": "code",
   "execution_count": 3,
   "id": "7ec24820",
   "metadata": {},
   "outputs": [],
   "source": [
    "#build the dataset out of blocks\n",
    "block_size = 3\n",
    "\n",
    "def build_dataset(words, block_size):\n",
    "    '''input is a list of words and the size of each block\n",
    "    output X maps block_size consecutive characters to the next character Y'''\n",
    "    X, Y = [], []\n",
    "    for word in words:\n",
    "        context = [0]*block_size\n",
    "        #print(word)\n",
    "        for char in word + '.':\n",
    "            ix = stoi[char]\n",
    "            X.append(context)\n",
    "            Y.append(ix)\n",
    "            #print(''.join(itos[i] for i in context), '--->', itos[ix])\n",
    "            context = context[1:] + [ix] #crop and append\n",
    "    X = torch.tensor(X)\n",
    "    Y = torch.tensor(Y)\n",
    "    return X, Y\n",
    "\n",
    "#80% of data will be used for training, 10% for hyperparam optimization, 10% for validation\n",
    "random.seed(42)\n",
    "random.shuffle(words)\n",
    "n1 = int(0.8*len(words))\n",
    "n2 = int(0.9*len(words))\n",
    "\n",
    "Xtr, Ytr = build_dataset(words[:n1], block_size) #training\n",
    "Xdev, Ydev = build_dataset(words[n1:n2], block_size) #hyper-param dev\n",
    "Xte, Yte = build_dataset(words[n2:], block_size) #testing"
   ]
  },
  {
   "cell_type": "code",
   "execution_count": 4,
   "id": "d946ae87",
   "metadata": {},
   "outputs": [],
   "source": [
    "#set up parameters of MLP\n",
    "n_embed = 10 #dimensions in character embeddings\n",
    "n_hidden = 200 #number of neurons in the hidden MLP layer\n",
    "\n",
    "g = torch.Generator().manual_seed(2147483647)\n",
    "C = torch.randn((vocab_size, n_embed), generator = g)\n",
    "\n",
    "#build a 2 layer neural net to predict Ys from Xs\n",
    "#first layer goes to n_hidden\n",
    "# we should multiply to change standard deviation of backprop weights\n",
    "W1 = torch.randn((n_embed*block_size, n_hidden), generator=g)*0.01 #weights\n",
    "\n",
    "#turn MLP layer to to 27 digits\n",
    "W2 = torch.randn((n_hidden, vocab_size), generator=g)*0.01 #weights\n",
    "b2 = torch.randn(vocab_size, generator=g)*0.01 #biases, multiple by \n",
    "\n",
    "#batch normalization\n",
    "bngain = torch.ones((1,n_hidden))\n",
    "bnbias = torch.zeros((1,n_hidden))\n",
    "\n",
    "parameters = [C, W1, W2, b2, bngain, bnbias]\n",
    "for p in parameters:\n",
    "    p.requires_grad = True"
   ]
  },
  {
   "cell_type": "code",
   "execution_count": 5,
   "id": "c63a4978",
   "metadata": {},
   "outputs": [],
   "source": [
    "#training\n",
    "max_steps = 10000\n",
    "batch_size = 32\n",
    "\n",
    "for i in range(max_steps):\n",
    "    #construct minibatch\n",
    "    ix = torch.randint(0, Xtr.shape[0], (batch_size,), generator=g)\n",
    "    Xb, Yb = Xtr[ix], Ytr[ix] #batches\n",
    "    \n",
    "    #forward pass\n",
    "    emb = C[Xb]\n",
    "    embcat = emb.view(emb.shape[0], -1) #concatenate the vectors so you can do matrix multip\n",
    "    pre_activations = embcat@W1\n",
    "    \n",
    "    #Batch normalization: want activations in hidden layer to be normal in the beginning, but then free to change!\n",
    "    #use mean and standard deviation of the whole system, not just the batch, so we keep a running tally\n",
    "    bmean = pre_activations.mean(0, keepdim=True)\n",
    "    bstd = pre_activations.std(0, keepdim=True)\n",
    "    pre_activations = (bngain*((pre_activations - bmean)/bstd)) + bnbias\n",
    "    \n",
    "    first_activations = torch.tanh(pre_activations)\n",
    "    logits = first_activations@W2 + b2 #output\n",
    "    loss = F.cross_entropy(logits, Yb) #compute loss \n",
    "    \n",
    "    #backward pass\n",
    "    for p in parameters:\n",
    "        p.grad = None\n",
    "    loss.backward()\n",
    "    \n",
    "    #update\n",
    "    lr = 0.1 #if i < 100000 else 0.01  #change learning rate as you surpass a certain level on training\n",
    "    for p in parameters:\n",
    "        p.data += -lr*p.grad "
   ]
  },
  {
   "cell_type": "code",
   "execution_count": 6,
   "id": "b29d4aec",
   "metadata": {
    "scrolled": true
   },
   "outputs": [
    {
     "data": {
      "text/plain": [
       "tensor(2.6228)"
      ]
     },
     "execution_count": 6,
     "metadata": {},
     "output_type": "execute_result"
    }
   ],
   "source": [
    "#loss on testing data\n",
    "#forward pass\n",
    "training_emb = C[Xte]\n",
    "training_embcat = training_emb.view(training_emb.shape[0], -1) #concatenate the vectors so you can do matrix multip\n",
    "training_first_activations = torch.tanh(training_embcat@W1)\n",
    "training_logits = training_first_activations@W2 + b2 #output\n",
    "training_loss = F.cross_entropy(training_logits, Yte) #compute loss\n",
    "training_loss.data"
   ]
  },
  {
   "cell_type": "code",
   "execution_count": 7,
   "id": "9d8680ee",
   "metadata": {
    "scrolled": true
   },
   "outputs": [
    {
     "data": {
      "text/plain": [
       "tensor(2.5510)"
      ]
     },
     "execution_count": 7,
     "metadata": {},
     "output_type": "execute_result"
    }
   ],
   "source": [
    "loss.data"
   ]
  },
  {
   "cell_type": "code",
   "execution_count": null,
   "id": "f681de40",
   "metadata": {},
   "outputs": [],
   "source": []
  }
 ],
 "metadata": {
  "kernelspec": {
   "display_name": "Python 3 (ipykernel)",
   "language": "python",
   "name": "python3"
  },
  "language_info": {
   "codemirror_mode": {
    "name": "ipython",
    "version": 3
   },
   "file_extension": ".py",
   "mimetype": "text/x-python",
   "name": "python",
   "nbconvert_exporter": "python",
   "pygments_lexer": "ipython3",
   "version": "3.10.9"
  }
 },
 "nbformat": 4,
 "nbformat_minor": 5
}
